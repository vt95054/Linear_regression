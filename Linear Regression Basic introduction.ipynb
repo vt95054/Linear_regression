{
 "cells": [
  {
   "cell_type": "code",
   "execution_count": 30,
   "id": "modular-model",
   "metadata": {},
   "outputs": [],
   "source": [
    "import numpy as np\n",
    "import pandas as pd\n",
    "import seaborn as sns\n",
    "import matplotlib.pyplot as plt\n",
    "import statsmodels.api as sm"
   ]
  },
  {
   "cell_type": "code",
   "execution_count": 10,
   "id": "american-honolulu",
   "metadata": {},
   "outputs": [
    {
     "data": {
      "text/html": [
       "<div>\n",
       "<style scoped>\n",
       "    .dataframe tbody tr th:only-of-type {\n",
       "        vertical-align: middle;\n",
       "    }\n",
       "\n",
       "    .dataframe tbody tr th {\n",
       "        vertical-align: top;\n",
       "    }\n",
       "\n",
       "    .dataframe thead th {\n",
       "        text-align: right;\n",
       "    }\n",
       "</style>\n",
       "<table border=\"1\" class=\"dataframe\">\n",
       "  <thead>\n",
       "    <tr style=\"text-align: right;\">\n",
       "      <th></th>\n",
       "      <th>weight</th>\n",
       "      <th>height</th>\n",
       "    </tr>\n",
       "  </thead>\n",
       "  <tbody>\n",
       "    <tr>\n",
       "      <th>0</th>\n",
       "      <td>64</td>\n",
       "      <td>175</td>\n",
       "    </tr>\n",
       "    <tr>\n",
       "      <th>1</th>\n",
       "      <td>58</td>\n",
       "      <td>160</td>\n",
       "    </tr>\n",
       "    <tr>\n",
       "      <th>2</th>\n",
       "      <td>75</td>\n",
       "      <td>185</td>\n",
       "    </tr>\n",
       "    <tr>\n",
       "      <th>3</th>\n",
       "      <td>67</td>\n",
       "      <td>183</td>\n",
       "    </tr>\n",
       "    <tr>\n",
       "      <th>4</th>\n",
       "      <td>68</td>\n",
       "      <td>172</td>\n",
       "    </tr>\n",
       "    <tr>\n",
       "      <th>5</th>\n",
       "      <td>67</td>\n",
       "      <td>178</td>\n",
       "    </tr>\n",
       "    <tr>\n",
       "      <th>6</th>\n",
       "      <td>65</td>\n",
       "      <td>167</td>\n",
       "    </tr>\n",
       "    <tr>\n",
       "      <th>7</th>\n",
       "      <td>60</td>\n",
       "      <td>163</td>\n",
       "    </tr>\n",
       "    <tr>\n",
       "      <th>8</th>\n",
       "      <td>70</td>\n",
       "      <td>180</td>\n",
       "    </tr>\n",
       "  </tbody>\n",
       "</table>\n",
       "</div>"
      ],
      "text/plain": [
       "   weight  height\n",
       "0      64     175\n",
       "1      58     160\n",
       "2      75     185\n",
       "3      67     183\n",
       "4      68     172\n",
       "5      67     178\n",
       "6      65     167\n",
       "7      60     163\n",
       "8      70     180"
      ]
     },
     "execution_count": 10,
     "metadata": {},
     "output_type": "execute_result"
    }
   ],
   "source": [
    "height=[175,160,185,183,172,178,167,163,180]\n",
    "weight=[64,58,75,67,68,67,65,60,70]\n",
    "index = [1,2,3,4,5,6,7,8,9]\n",
    "data = pd.DataFrame({'weight': weight,'height':height})\n",
    "data"
   ]
  },
  {
   "cell_type": "code",
   "execution_count": 11,
   "id": "published-roads",
   "metadata": {},
   "outputs": [],
   "source": [
    "x,y=data.height,data.weight"
   ]
  },
  {
   "cell_type": "code",
   "execution_count": 15,
   "id": "technical-adaptation",
   "metadata": {},
   "outputs": [
    {
     "name": "stderr",
     "output_type": "stream",
     "text": [
      "C:\\Users\\Vivek\\AppData\\Local\\Programs\\Python\\Python39\\lib\\site-packages\\seaborn\\_decorators.py:36: FutureWarning: Pass the following variables as keyword args: x, y. From version 0.12, the only valid positional argument will be `data`, and passing other arguments without an explicit keyword will result in an error or misinterpretation.\n",
      "  warnings.warn(\n"
     ]
    },
    {
     "data": {
      "image/png": "[encoded data removed]",
      "text/plain": [
       "<Figure size 432x288 with 1 Axes>"
      ]
     },
     "metadata": {
      "needs_background": "light"
     },
     "output_type": "display_data"
    }
   ],
   "source": [
    "sns.scatterplot(x,y)\n",
    "plt.show()"
   ]
  },
  {
   "cell_type": "code",
   "execution_count": 16,
   "id": "forced-leather",
   "metadata": {},
   "outputs": [
    {
     "name": "stdout",
     "output_type": "stream",
     "text": [
      "[13 21 35 37 51 89]\n"
     ]
    }
   ],
   "source": [
    "m=2\n",
    "b=5\n",
    "x=np.array([4,8,15,16,23,42])\n",
    "y=m*x +b\n",
    "print(y)"
   ]
  },
  {
   "cell_type": "code",
   "execution_count": 19,
   "id": "burning-victoria",
   "metadata": {},
   "outputs": [
    {
     "data": {
      "image/png": "[encoded data removed]",
      "text/plain": [
       "<Figure size 432x288 with 1 Axes>"
      ]
     },
     "metadata": {
      "needs_background": "light"
     },
     "output_type": "display_data"
    }
   ],
   "source": [
    "plt.plot(x,y)\n",
    "plt.xlim(0,45)\n",
    "plt.ylim(-30,100)\n",
    "plt.show()"
   ]
  },
  {
   "cell_type": "code",
   "execution_count": 40,
   "id": "unauthorized-cheat",
   "metadata": {},
   "outputs": [
    {
     "name": "stdout",
     "output_type": "stream",
     "text": [
      "Intercept   -21.668269\n",
      "height        0.504808\n",
      "dtype: float64\n"
     ]
    }
   ],
   "source": [
    "model = sm.OLS.from_formula('weight ~ height', data = data).fit()\n",
    "print(model.params)"
   ]
  },
  {
   "cell_type": "code",
   "execution_count": 41,
   "id": "outer-trunk",
   "metadata": {},
   "outputs": [],
   "source": [
    "# Intercept is b= -21.668269 and m value is 0.504808"
   ]
  },
  {
   "cell_type": "code",
   "execution_count": 44,
   "id": "perceived-documentation",
   "metadata": {},
   "outputs": [],
   "source": [
    "# So the final resutl prediction is \n",
    "# model.params[1]* data.height + model.params[0]"
   ]
  },
  {
   "cell_type": "code",
   "execution_count": 46,
   "id": "matched-accommodation",
   "metadata": {},
   "outputs": [
    {
     "name": "stderr",
     "output_type": "stream",
     "text": [
      "C:\\Users\\Vivek\\AppData\\Local\\Programs\\Python\\Python39\\lib\\site-packages\\seaborn\\_decorators.py:36: FutureWarning: Pass the following variables as keyword args: x, y. From version 0.12, the only valid positional argument will be `data`, and passing other arguments without an explicit keyword will result in an error or misinterpretation.\n",
      "  warnings.warn(\n"
     ]
    },
    {
     "data": {
      "image/png": "[encoded data removed]",
      "text/plain": [
       "<Figure size 432x288 with 1 Axes>"
      ]
     },
     "metadata": {
      "needs_background": "light"
     },
     "output_type": "display_data"
    }
   ],
   "source": [
    "sns.scatterplot('height', 'weight', data = data)\n",
    "#y= m*x + b\n",
    "predicted_weight = model.params[1]* data.height + model.params[0]\n",
    "plt.plot(data.height, predicted_weight)\n",
    "plt.show()"
   ]
  },
  {
   "cell_type": "code",
   "execution_count": 47,
   "id": "fallen-offering",
   "metadata": {},
   "outputs": [
    {
     "name": "stdout",
     "output_type": "stream",
     "text": [
      "0    66.673077\n",
      "1    59.100962\n",
      "2    71.721154\n",
      "3    70.711538\n",
      "4    65.158654\n",
      "5    68.187500\n",
      "6    62.634615\n",
      "7    60.615385\n",
      "8    69.197115\n",
      "dtype: float64\n"
     ]
    }
   ],
   "source": [
    "# so now we have fitted values for the data and we can also predict values using\n",
    "# predict method of model.\n",
    "fitted_values = model.predict(data)\n",
    "print(fitted_values)"
   ]
  },
  {
   "cell_type": "code",
   "execution_count": 48,
   "id": "naked-consortium",
   "metadata": {},
   "outputs": [
    {
     "name": "stdout",
     "output_type": "stream",
     "text": [
      "0   -2.673077\n",
      "1   -1.100962\n",
      "2    3.278846\n",
      "3   -3.711538\n",
      "4    2.841346\n",
      "5   -1.187500\n",
      "6    2.365385\n",
      "7   -0.615385\n",
      "8    0.802885\n",
      "dtype: float64\n"
     ]
    }
   ],
   "source": [
    "# Let's print the error between fitted values(we can say predicted values) and\n",
    "# the original weights for the model.\n",
    "residuals = data.weight - fitted_values\n",
    "print(residuals)"
   ]
  },
  {
   "cell_type": "code",
   "execution_count": 50,
   "id": "sound-funds",
   "metadata": {},
   "outputs": [
    {
     "data": {
      "image/png": "[encoded data removed]",
      "text/plain": [
       "<Figure size 432x288 with 1 Axes>"
      ]
     },
     "metadata": {
      "needs_background": "light"
     },
     "output_type": "display_data"
    }
   ],
   "source": [
    "plt.scatter(fitted_values, residuals)\n",
    "plt.axhline(0, color = 'black', linestyle='--')\n",
    "plt.show()\n",
    "#So these are the error values with respect to their calculated weights"
   ]
  },
  {
   "cell_type": "code",
   "execution_count": 57,
   "id": "rocky-respondent",
   "metadata": {},
   "outputs": [],
   "source": [
    "# So how to calculate least square for the error's ??\n",
    "# How to move m and b value so that we can get best close value for the model\n",
    "# What is cost function??"
   ]
  }
 ],
 "metadata": {
  "kernelspec": {
   "display_name": "Python 3.9.1 64-bit",
   "language": "python",
   "name": "python39164bit9586ab94994347caa7e9fe2534d77c58"
  },
  "language_info": {
   "codemirror_mode": {
    "name": "ipython",
    "version": 3
   },
   "file_extension": ".py",
   "mimetype": "text/x-python",
   "name": "python",
   "nbconvert_exporter": "python",
   "pygments_lexer": "ipython3",
   "version": "3.9.1"
  }
 },
 "nbformat": 4,
 "nbformat_minor": 5
}
